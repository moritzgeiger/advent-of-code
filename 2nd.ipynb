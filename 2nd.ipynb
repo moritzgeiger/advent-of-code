{
 "cells": [
  {
   "cell_type": "code",
   "execution_count": 1,
   "id": "d285b232-b6d1-4d83-813d-68b544e02088",
   "metadata": {},
   "outputs": [],
   "source": [
    "import re"
   ]
  },
  {
   "cell_type": "code",
   "execution_count": 44,
   "id": "747fb25f-eeb5-4dd4-b503-0cd415889455",
   "metadata": {},
   "outputs": [],
   "source": [
    "test_input = \"\"\"Card 1: 41 48 83 86 17 | 83 86  6 31 17  9 48 53\n",
    "Card 2: 13 32 20 16 61 | 61 30 68 82 17 32 24 19\n",
    "Card 3:  1 21 53 59 44 | 69 82 63 72 16 21 14  1\n",
    "Card 4: 41 92 73 84 69 | 59 84 76 51 58  5 54 83\n",
    "Card 5: 87 83 26 28 32 | 88 30 70 12 93 22 82 36\n",
    "Card 6: 31 18 13 56 72 | 74 77 10 23 35 67 36 11\"\"\"\n",
    "\n",
    "input = open('input.txt').read()\n"
   ]
  },
  {
   "cell_type": "code",
   "execution_count": 53,
   "id": "eff7c86b-678d-492c-a389-80b8c97b3a8c",
   "metadata": {},
   "outputs": [],
   "source": [
    "cards = {\n",
    "    game.split(':')[0]: [round.strip() for round in (game.split(':')[1].strip().split('|'))]\n",
    "    for game in input.split('\\n')\n",
    "}"
   ]
  },
  {
   "cell_type": "code",
   "execution_count": 54,
   "id": "fde9be94-0f52-4415-8459-37576bb731d8",
   "metadata": {},
   "outputs": [],
   "source": [
    "# cards"
   ]
  },
  {
   "cell_type": "code",
   "execution_count": 60,
   "id": "a1b9ffcf-8e78-4290-91c9-e2131675a784",
   "metadata": {},
   "outputs": [],
   "source": [
    "winners = {}\n",
    "for card, rounds in cards.items():\n",
    "    parts = [round.split() for round in rounds]\n",
    "    # print(card)\n",
    "    intersection = set(parts[0]).intersection(parts[1])\n",
    "    if intersection:\n",
    "        # print(intersection)\n",
    "        winners[card] = len(intersection)"
   ]
  },
  {
   "cell_type": "code",
   "execution_count": 61,
   "id": "b3effe47-419e-47de-8ac3-8aa1b0cd929a",
   "metadata": {},
   "outputs": [
    {
     "data": {
      "text/plain": [
       "24160"
      ]
     },
     "execution_count": 61,
     "metadata": {},
     "output_type": "execute_result"
    }
   ],
   "source": [
    "sum([2**(x-1) for x in winners.values()])"
   ]
  },
  {
   "cell_type": "code",
   "execution_count": null,
   "id": "d433293f-03f5-4ea2-9bd0-a74b041f4440",
   "metadata": {},
   "outputs": [],
   "source": []
  },
  {
   "cell_type": "code",
   "execution_count": null,
   "id": "561595c3-4031-4e6d-b915-85df6e389ba9",
   "metadata": {},
   "outputs": [],
   "source": []
  },
  {
   "cell_type": "code",
   "execution_count": 62,
   "id": "89e88698-929f-41ec-a780-f24a6a79a614",
   "metadata": {},
   "outputs": [],
   "source": [
    "import pandas as pd"
   ]
  },
  {
   "cell_type": "code",
   "execution_count": null,
   "id": "214fb358-83aa-4712-9a18-7928990802f3",
   "metadata": {},
   "outputs": [],
   "source": []
  },
  {
   "cell_type": "code",
   "execution_count": null,
   "id": "3ccb5bad-75b8-4bbe-a9a4-bd5bb680c5ca",
   "metadata": {},
   "outputs": [
    {
     "ename": "",
     "evalue": "",
     "output_type": "error",
     "traceback": [
      "\u001b[1;31mRunning cells with '/Users/moritzgeiger/.pyenv/versions/3.9.0/bin/python3.9' requires the ipykernel package.\n",
      "\u001b[1;31mRun the following command to install 'ipykernel' into the Python environment. \n",
      "\u001b[1;31mCommand: '/Users/moritzgeiger/.pyenv/versions/3.9.0/bin/python3.9 -m pip install ipykernel -U --force-reinstall'"
     ]
    }
   ],
   "source": []
  },
  {
   "cell_type": "code",
   "execution_count": 75,
   "id": "44c880dd-2ba8-461d-9a56-ad833e930d96",
   "metadata": {},
   "outputs": [],
   "source": [
    "# df['unpack_comments'] = df.comments.apply(lambda x: '\\n'.join(x))"
   ]
  },
  {
   "cell_type": "code",
   "execution_count": null,
   "id": "f5d2a490-ed17-4943-9d4c-cb56e46f53b2",
   "metadata": {},
   "outputs": [
    {
     "ename": "",
     "evalue": "",
     "output_type": "error",
     "traceback": [
      "\u001b[1;31mRunning cells with '/Users/moritzgeiger/.pyenv/versions/3.9.0/bin/python3.9' requires the ipykernel package.\n",
      "\u001b[1;31mRun the following command to install 'ipykernel' into the Python environment. \n",
      "\u001b[1;31mCommand: '/Users/moritzgeiger/.pyenv/versions/3.9.0/bin/python3.9 -m pip install ipykernel -U --force-reinstall'"
     ]
    }
   ],
   "source": []
  },
  {
   "cell_type": "code",
   "execution_count": null,
   "id": "bf41fd51-8857-4e2f-8357-dda84c21a292",
   "metadata": {},
   "outputs": [],
   "source": []
  },
  {
   "cell_type": "code",
   "execution_count": null,
   "id": "4a912f9b-b767-4cfd-b5db-3cbf4725eb7c",
   "metadata": {},
   "outputs": [],
   "source": []
  },
  {
   "cell_type": "code",
   "execution_count": null,
   "id": "111faecb-8649-4ba5-8114-8030daf37c66",
   "metadata": {},
   "outputs": [],
   "source": []
  },
  {
   "cell_type": "code",
   "execution_count": null,
   "id": "da662217-dee7-4ee9-a929-72ba42a69fa3",
   "metadata": {},
   "outputs": [],
   "source": []
  },
  {
   "cell_type": "code",
   "execution_count": null,
   "id": "295a1adc-55ea-41b6-afdf-20f9d43e105f",
   "metadata": {},
   "outputs": [],
   "source": []
  },
  {
   "cell_type": "code",
   "execution_count": null,
   "id": "b43ecd7e-195e-4b58-a991-a45c615d6678",
   "metadata": {},
   "outputs": [],
   "source": []
  },
  {
   "cell_type": "code",
   "execution_count": null,
   "id": "fc519265-73d4-4c11-b4bb-c52c3a05598d",
   "metadata": {},
   "outputs": [],
   "source": []
  },
  {
   "cell_type": "code",
   "execution_count": null,
   "id": "fad9f620-401e-4410-b063-56508bfefaaf",
   "metadata": {},
   "outputs": [],
   "source": []
  },
  {
   "cell_type": "code",
   "execution_count": null,
   "id": "2bb19e08-7700-47d6-afb1-3196d4465ebb",
   "metadata": {},
   "outputs": [],
   "source": []
  },
  {
   "cell_type": "code",
   "execution_count": null,
   "id": "ccb0650f-fa4a-4894-908c-5d4d429ced3d",
   "metadata": {},
   "outputs": [],
   "source": []
  },
  {
   "cell_type": "code",
   "execution_count": 76,
   "id": "b44b7312-0e2c-4976-a638-6fb6509688e6",
   "metadata": {},
   "outputs": [
    {
     "name": "stdout",
     "output_type": "stream",
     "text": [
      "stg__nvm_nvma_00.sql\n",
      "stg__nvm_nvma_01.sql\n",
      "stg__nvm_nvma_02.sql\n",
      "stg__nvm_nvmra_rental_01.sql\n",
      "stg__nvm_nvmra_rental_03.sql\n",
      "stg__nvm_nvmra_sales_00.sql\n",
      "stg__nvm_nvmra_sales_01.sql\n"
     ]
    }
   ],
   "source": [
    "string = \"\"\"\n",
    "clients/colliers/colliers/dbt/models/stg/stg__nvm_nvma_00.sql clients/colliers/colliers/dbt/models/stg/stg__nvm_nvma_01.sql clients/colliers/colliers/dbt/models/stg/stg__nvm_nvma_02.sql clients/colliers/colliers/dbt/models/stg/stg__nvm_nvmra_rental_01.sql clients/colliers/colliers/dbt/models/stg/stg__nvm_nvmra_rental_03.sql clients/colliers/colliers/dbt/models/stg/stg__nvm_nvmra_sales_00.sql clients/colliers/colliers/dbt/models/stg/stg__nvm_nvmra_sales_01.sql\n",
    "\"\"\"\n",
    "\n",
    "for i in string.split():\n",
    "    print(''.join(i.split('/')[-1]))"
   ]
  },
  {
   "cell_type": "code",
   "execution_count": null,
   "id": "ad284243-6bae-4c13-adf9-55bf72c1c678",
   "metadata": {},
   "outputs": [],
   "source": []
  }
 ],
 "metadata": {
  "kernelspec": {
   "display_name": "Python 3 (ipykernel)",
   "language": "python",
   "name": "python3"
  },
  "language_info": {
   "codemirror_mode": {
    "name": "ipython",
    "version": 3
   },
   "file_extension": ".py",
   "mimetype": "text/x-python",
   "name": "python",
   "nbconvert_exporter": "python",
   "pygments_lexer": "ipython3",
   "version": "3.9.0"
  }
 },
 "nbformat": 4,
 "nbformat_minor": 5
}
