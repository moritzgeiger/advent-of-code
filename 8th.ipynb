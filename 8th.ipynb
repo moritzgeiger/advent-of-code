{
 "cells": [
  {
   "cell_type": "code",
   "execution_count": 9,
   "id": "e851e8f0-111c-46a1-b42c-8563c49e3904",
   "metadata": {},
   "outputs": [],
   "source": [
    "import ipywidgets as widgets"
   ]
  },
  {
   "cell_type": "code",
   "execution_count": 2,
   "id": "88ff5715-f8b0-4f69-9a2a-ff84138488ea",
   "metadata": {},
   "outputs": [],
   "source": [
    "_input = \"\"\"LR\n",
    "\n",
    "11A = (11B, XXX)\n",
    "11B = (XXX, 11Z)\n",
    "11Z = (11B, XXX)\n",
    "22A = (22B, XXX)\n",
    "22B = (22C, 22C)\n",
    "22C = (22Z, 22Z)\n",
    "22Z = (22B, 22B)\n",
    "XXX = (XXX, XXX)\"\"\"\n",
    "_input = open('8th.txt').read()"
   ]
  },
  {
   "cell_type": "code",
   "execution_count": 3,
   "id": "b92191c2-5198-4ca1-8946-78ef74e18bcc",
   "metadata": {},
   "outputs": [],
   "source": [
    "controls = {\"L\": 0, \"R\": 1}"
   ]
  },
  {
   "cell_type": "code",
   "execution_count": 4,
   "id": "64165f1e-396e-44df-b568-09237540a598",
   "metadata": {},
   "outputs": [],
   "source": [
    "# _input"
   ]
  },
  {
   "cell_type": "code",
   "execution_count": 5,
   "id": "505cc113-4b23-4060-82a4-bdf2cc2c561d",
   "metadata": {},
   "outputs": [],
   "source": [
    "control_moves = [controls[instruction] for instruction in _input.split('\\n\\n')[0]] \n",
    "elements = {\n",
    "    i[0:3]: (i[7:10], i[12:15]) for i in _input.split('\\n\\n')[1].split('\\n')\n",
    "}\n",
    "starting_points = [k for k in elements if k.endswith('A')]"
   ]
  },
  {
   "cell_type": "code",
   "execution_count": 6,
   "id": "9ac5a6a1-8ff7-4f2d-8fe8-4200d028c7b4",
   "metadata": {},
   "outputs": [],
   "source": [
    "# control_moves"
   ]
  },
  {
   "cell_type": "code",
   "execution_count": 7,
   "id": "acb109b8-c133-4d5d-a2b3-f63d667750df",
   "metadata": {},
   "outputs": [],
   "source": [
    "# starting_points"
   ]
  },
  {
   "cell_type": "code",
   "execution_count": null,
   "id": "d6a3c7a2-db02-451c-bec5-6047e21abc2b",
   "metadata": {},
   "outputs": [],
   "source": [
    "# found = False\n",
    "# iter = 0\n",
    "# max_count = 7_000_000\n",
    "# f = widgets.IntProgress(min=0, max=max_count) # instantiate the bar\n",
    "# display(f)\n",
    "# while not found:\n",
    "#     for move in control_moves:\n",
    "#         iter += 1\n",
    "#         if iter % 1000 == 0:\n",
    "#             f.value += 1\n",
    "#         starting_points = [elements[point][move] for point in starting_points]\n",
    "#         found = all([x.endswith('Z') for x in starting_points])\n",
    "# iter"
   ]
  },
  {
   "cell_type": "code",
   "execution_count": 33,
   "id": "028a3c8f-d17f-4533-9928-3fd1481b612f",
   "metadata": {},
   "outputs": [
    {
     "name": "stdout",
     "output_type": "stream",
     "text": [
      "CPU times: user 5 µs, sys: 1 µs, total: 6 µs\n",
      "Wall time: 11.9 µs\n",
      "QXA\n",
      "PDA\n",
      "TDA\n",
      "QQA\n",
      "PPA\n",
      "AAA\n"
     ]
    }
   ],
   "source": [
    "\n",
    "%time\n",
    "iters = {}\n",
    "for point in starting_points:\n",
    "    print(point)\n",
    "    found = False\n",
    "    iter = 0\n",
    "    start = point\n",
    "    while not found:\n",
    "        for move in control_moves:\n",
    "            iter += 1\n",
    "            start = elements[start][move]\n",
    "            found = start.endswith('Z')\n",
    "            if found: \n",
    "                iters[point] = iter"
   ]
  },
  {
   "cell_type": "code",
   "execution_count": 34,
   "id": "3b030e73-c246-4b91-ae42-55b2bae4b93a",
   "metadata": {},
   "outputs": [
    {
     "data": {
      "text/plain": [
       "{'QXA': 12643,\n",
       " 'PDA': 14257,\n",
       " 'TDA': 15871,\n",
       " 'QQA': 18023,\n",
       " 'PPA': 19637,\n",
       " 'AAA': 16409}"
      ]
     },
     "execution_count": 34,
     "metadata": {},
     "output_type": "execute_result"
    }
   ],
   "source": [
    "iters"
   ]
  },
  {
   "cell_type": "code",
   "execution_count": 35,
   "id": "7c73615d-821b-445d-849a-36cd5f76ed43",
   "metadata": {},
   "outputs": [],
   "source": [
    "import math"
   ]
  },
  {
   "cell_type": "code",
   "execution_count": 36,
   "id": "c10e7c68-3aa5-4f23-9de2-65c0fea65bf7",
   "metadata": {},
   "outputs": [
    {
     "data": {
      "text/plain": [
       "11795205644011"
      ]
     },
     "execution_count": 36,
     "metadata": {},
     "output_type": "execute_result"
    }
   ],
   "source": [
    "math.lcm(*list(iters.values()))"
   ]
  },
  {
   "cell_type": "code",
   "execution_count": 37,
   "id": "632b3120-56f6-4407-9f56-b850c87319e0",
   "metadata": {},
   "outputs": [],
   "source": [
    "# 11 trillion"
   ]
  },
  {
   "cell_type": "code",
   "execution_count": null,
   "id": "8a3b19b2-f5e5-4cbe-ad27-dd5ba3e1e72b",
   "metadata": {},
   "outputs": [],
   "source": []
  }
 ],
 "metadata": {
  "kernelspec": {
   "display_name": "Python 3 (ipykernel)",
   "language": "python",
   "name": "python3"
  },
  "language_info": {
   "codemirror_mode": {
    "name": "ipython",
    "version": 3
   },
   "file_extension": ".py",
   "mimetype": "text/x-python",
   "name": "python",
   "nbconvert_exporter": "python",
   "pygments_lexer": "ipython3",
   "version": "3.9.13"
  }
 },
 "nbformat": 4,
 "nbformat_minor": 5
}
