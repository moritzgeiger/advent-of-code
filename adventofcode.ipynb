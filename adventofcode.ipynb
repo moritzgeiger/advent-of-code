{
 "cells": [
  {
   "cell_type": "code",
   "execution_count": 40,
   "id": "1cc4d4d2-d3a0-4925-af1e-7868e499368b",
   "metadata": {},
   "outputs": [],
   "source": [
    "test_run = \"\"\"Game 1: 3 blue, 4 red; 1 red, 2 green, 6 blue; 2 green\n",
    "Game 2: 1 blue, 2 green; 3 green, 4 blue, 1 red; 1 green, 1 blue\n",
    "Game 3: 8 green, 6 blue, 20 red; 5 blue, 4 red, 13 green; 5 green, 1 red\n",
    "Game 4: 1 green, 3 red, 6 blue; 3 green, 6 red; 3 green, 15 blue, 14 red\n",
    "Game 5: 6 red, 1 blue, 3 green; 2 blue, 1 red, 2 green\"\"\""
   ]
  },
  {
   "cell_type": "code",
   "execution_count": 150,
   "id": "5814f9e9-943e-4a17-97ca-0a371b487712",
   "metadata": {},
   "outputs": [
    {
     "data": {
      "text/plain": [
       "231"
      ]
     },
     "execution_count": 150,
     "metadata": {},
     "output_type": "execute_result"
    }
   ],
   "source": [
    "games = {}\n",
    "maxi = {\n",
    "    'red': 12,\n",
    "    'green': 13, \n",
    "    'blue': 14\n",
    "}\n",
    "\n",
    "all_games = {}\n",
    "\n",
    "\n",
    "lines = open('input.txt').read().split('\\n')\n",
    "# lines = test_run.split('\\n')\n",
    "for line in lines:\n",
    "    # print(line)\n",
    "    parts = line.split(':')\n",
    "    detail = {}\n",
    "    try:\n",
    "        plays = parts[1].replace(\";\", \",\").split(',')\n",
    "        plays_list = [x.strip() for x in plays]\n",
    "        # print(plays_list)\n",
    "        \n",
    "        for x in plays_list:\n",
    "            color = x.split()[1].strip()\n",
    "            occ = int(x.split()[0].strip())\n",
    "            # print(game, occ)\n",
    "            if detail.get(color):\n",
    "                detail[color] += occ\n",
    "            else:\n",
    "                detail[color] = occ            \n",
    "    except:\n",
    "        continue\n",
    "\n",
    "    all_games[parts[0]] = detail\n",
    "    \n",
    "too_much = 0\n",
    "for game, detail in all_games.items():\n",
    "    # print(game, deets)\n",
    "    if any(\n",
    "        [detail[key] > maxi[key] for key in detail.keys()]\n",
    "    ):\n",
    "        # print(game)\n",
    "        continue\n",
    "    else:\n",
    "        too_much += int(game.split()[1])\n",
    "\n",
    "too_much"
   ]
  },
  {
   "cell_type": "code",
   "execution_count": null,
   "id": "dd0730b1-d17a-46b6-81d8-dba1219099eb",
   "metadata": {},
   "outputs": [],
   "source": []
  },
  {
   "cell_type": "code",
   "execution_count": 162,
   "id": "f4581881-342c-4c48-a067-bb4c066ae01a",
   "metadata": {},
   "outputs": [
    {
     "name": "stdout",
     "output_type": "stream",
     "text": [
      "1\n",
      "7\n",
      "19\n",
      "27\n",
      "28\n",
      "40\n",
      "46\n",
      "63\n"
     ]
    },
    {
     "data": {
      "text/plain": [
       "231"
      ]
     },
     "execution_count": 162,
     "metadata": {},
     "output_type": "execute_result"
    }
   ],
   "source": [
    "games = {}\n",
    "maxi = {\n",
    "    'red': 12,\n",
    "    'green': 13, \n",
    "    'blue': 14\n",
    "}\n",
    "\n",
    "all_games = {}\n",
    "\n",
    "\n",
    "lines = open('input.txt').read().split('\\n')\n",
    "# lines = test_run.split('\\n')\n",
    "for line in lines:\n",
    "    # print(line)\n",
    "    parts = line.split(':')\n",
    "    detail = {}\n",
    "    try:\n",
    "        plays = parts[1].strip().split(';')\n",
    "        plays_list = [x.split(',') for x in plays]\n",
    "        # print(plays_list)\n",
    "        for i in plays_list:\n",
    "            for x in i:\n",
    "                game = x.split()[1].strip()\n",
    "                occ = int(x.split()[0].strip())\n",
    "                if detail.get(game):\n",
    "                    detail[game] += occ\n",
    "                else:\n",
    "                    detail[game] = occ\n",
    "\n",
    "        \n",
    "            \n",
    "    except:\n",
    "        continue\n",
    "    all_games[parts[0]] = detail\n",
    "\n",
    "too_much = 0\n",
    "for game, deets in all_games.items():\n",
    "    if any(\n",
    "        [deets[key] > maxi[key] for key in deets.keys()]\n",
    "    ):\n",
    "        continue\n",
    "    else:\n",
    "        print(int(game.split()[1]))\n",
    "        too_much += int(game.split()[1])\n",
    "\n",
    "too_much"
   ]
  },
  {
   "cell_type": "code",
   "execution_count": 168,
   "id": "71905553-1d33-4357-9afe-01ce46a87765",
   "metadata": {},
   "outputs": [],
   "source": [
    "lines = open('input.txt').read().split('\\n')\n",
    "games_data = {}\n",
    "for line in lines:\n",
    "    parts = line.split(':')\n",
    "    games_data[int(parts[0].split()[1].strip())] = [x.strip() for x in parts[1].split('; ')]\n",
    "# games_data"
   ]
  },
  {
   "cell_type": "code",
   "execution_count": null,
   "id": "1f4f51b6-4d42-4c44-9629-afceb11ece0f",
   "metadata": {},
   "outputs": [],
   "source": [
    "# Input games data\n",
    "games_data = {\n",
    "    1: [\"3 blue, 4 red\", \"1 red, 2 green, 6 blue\", \"2 green\"],\n",
    "    2: [\"1 blue, 2 green\", \"3 green, 4 blue, 1 red\", \"1 green, 1 blue\"],\n",
    "    3: [\"8 green, 6 blue, 20 red\", \"5 blue, 4 red, 13 green\", \"5 green, 1 red\"],\n",
    "    4: [\"1 green, 3 red, 6 blue\", \"3 green, 6 red\", \"3 green, 15 blue, 14 red\"],\n",
    "    5: [\"6 red, 1 blue, 3 green\", \"2 blue, 1 red, 2 green\"]\n",
    "}"
   ]
  },
  {
   "cell_type": "code",
   "execution_count": 169,
   "id": "f9bb475f-3bf3-435b-b020-cd80817ce08d",
   "metadata": {},
   "outputs": [
    {
     "name": "stdout",
     "output_type": "stream",
     "text": [
      "2169\n"
     ]
    }
   ],
   "source": [
    "def is_possible(cubes, game):\n",
    "    red_count, green_count, blue_count = cubes\n",
    "    for subset in game:\n",
    "        subset_cubes = subset.split(', ')\n",
    "        subset_counts = {color: int(count.split()[0]) for count, color in [cube.split() for cube in subset_cubes]}\n",
    "        if any(subset_counts.get(color, 0) > count for color, count in zip(['red', 'green', 'blue'], cubes)):\n",
    "            return False\n",
    "    return True\n",
    "\n",
    "def possible_games(red, green, blue, games):\n",
    "    possible_game_ids = []\n",
    "    for game_id, game in games.items():\n",
    "        if is_possible([red, green, blue], game):\n",
    "            possible_game_ids.append(game_id)\n",
    "    return possible_game_ids\n",
    "\n",
    "# Cube counts\n",
    "red_count = 12\n",
    "green_count = 13\n",
    "blue_count = 14\n",
    "\n",
    "# Find possible games\n",
    "possible_ids = possible_games(red_count, green_count, blue_count, games_data)\n",
    "print(sum(possible_ids))  # Sum of IDs of possible games\n"
   ]
  },
  {
   "cell_type": "code",
   "execution_count": null,
   "id": "5c4c0be7-ffbf-4750-af69-7be721f3ba9f",
   "metadata": {},
   "outputs": [],
   "source": []
  },
  {
   "cell_type": "code",
   "execution_count": null,
   "id": "88b7aafd-fd28-4dd4-bcf0-3eb2b5b1d205",
   "metadata": {},
   "outputs": [],
   "source": []
  },
  {
   "cell_type": "code",
   "execution_count": null,
   "id": "2468ac1c-2490-4710-bd62-c2a5c530c8da",
   "metadata": {},
   "outputs": [],
   "source": []
  },
  {
   "cell_type": "markdown",
   "id": "d242dfbd-3dec-4e98-8fb2-7ed3fb47a838",
   "metadata": {},
   "source": [
    "# 3rd"
   ]
  },
  {
   "cell_type": "code",
   "execution_count": 159,
   "id": "834a4ee1-1442-4163-91cb-50b024d8e966",
   "metadata": {},
   "outputs": [
    {
     "data": {
      "text/plain": [
       "231"
      ]
     },
     "execution_count": 159,
     "metadata": {},
     "output_type": "execute_result"
    }
   ],
   "source": [
    "(1\n",
    "+7\n",
    "+19\n",
    "+27\n",
    "+28\n",
    "+40\n",
    "+46\n",
    "+63)"
   ]
  },
  {
   "cell_type": "code",
   "execution_count": 71,
   "id": "8a1858f8-e509-42fd-b89a-d464857650da",
   "metadata": {},
   "outputs": [],
   "source": [
    "import re"
   ]
  },
  {
   "cell_type": "code",
   "execution_count": 134,
   "id": "b40e5761-6b85-4fc0-b8bc-ca2dcf579d43",
   "metadata": {},
   "outputs": [
    {
     "data": {
      "text/plain": [
       "140"
      ]
     },
     "execution_count": 134,
     "metadata": {},
     "output_type": "execute_result"
    }
   ],
   "source": [
    "len('..............423....688..934............970................................95.728..........896...113..................153..972.............')"
   ]
  },
  {
   "cell_type": "code",
   "execution_count": 137,
   "id": "64702b58-2d05-4f87-8c2c-a18b7da157f8",
   "metadata": {},
   "outputs": [],
   "source": [
    "input = \"\"\"467..114..\n",
    "...*......\n",
    "..35..633.\n",
    "......#...\n",
    "617*......\n",
    ".....+.58.\n",
    "..592.....\n",
    "......755.\n",
    "...$.*....\n",
    ".664.598..\"\"\"\n",
    "\n",
    "length = 140\n",
    "length = 10"
   ]
  },
  {
   "cell_type": "code",
   "execution_count": 139,
   "id": "6d51db5b-ff55-472a-b98b-a5c384d6df16",
   "metadata": {},
   "outputs": [
    {
     "name": "stdout",
     "output_type": "stream",
     "text": [
      "12 * ABC\n",
      "3 * DEF\n",
      "56 * G\n",
      "7 * HIJ\n"
     ]
    }
   ],
   "source": [
    "import re\n",
    "\n",
    "s = \"ABC12DEF3G56HIJ7\"\n",
    "pattern = re.compile(r'([A-Z]+)([0-9]+)')\n",
    "\n",
    "for (letters, numbers) in re.findall(pattern, s):\n",
    "    print(numbers, '*', letters)\n",
    "    "
   ]
  },
  {
   "cell_type": "code",
   "execution_count": 147,
   "id": "591f3829-7c6d-4c00-aa9b-2251990355ec",
   "metadata": {},
   "outputs": [
    {
     "name": "stdout",
     "output_type": "stream",
     "text": [
      "467..114..\n",
      "['467', '114']\n",
      "...*......\n",
      "[]\n",
      "..35..633.\n",
      "['35', '633']\n",
      "......#...\n",
      "[]\n",
      "617*......\n",
      "['617']\n",
      ".....+.58.\n",
      "['58']\n",
      "..592.....\n",
      "['592']\n",
      "......755.\n",
      "['755']\n",
      "...$.*....\n",
      "[]\n",
      ".664.598..\n",
      "['664', '598']\n"
     ]
    },
    {
     "data": {
      "text/plain": [
       "{}"
      ]
     },
     "execution_count": 147,
     "metadata": {},
     "output_type": "execute_result"
    }
   ],
   "source": [
    "codes_dict = {}\n",
    "spec_dict = {}\n",
    "for rn, line in enumerate(input.split('\\n')):\n",
    "    print(line)\n",
    "    print(re.findall(r'(\\d+)', line))\n",
    "\n",
    "    # print(digit_matches)\n",
    "    # print(spec_matches)\n",
    "    # if digit_matches:\n",
    "    #     codes_dict[rn] = {\n",
    "    #         re.search(match, line).span(): match\n",
    "    #         for match in digit_matches\n",
    "    #     }\n",
    "    # if spec_matches:\n",
    "    #     spec_dict[rn] = {\n",
    "    #         re.search(match, line).span(): match\n",
    "    #         for match in spec_matches\n",
    "    #     }\n",
    "    #         # .match(x, line) for x in match])\n",
    "    # # try:\n",
    "    #     # print(match)\n",
    "    # except:\n",
    "        # continue\n",
    "lines_dict\n",
    "spec_dict \n"
   ]
  },
  {
   "cell_type": "code",
   "execution_count": null,
   "id": "98712f6d-cd2d-4966-95bd-930570ab6a22",
   "metadata": {},
   "outputs": [],
   "source": []
  }
 ],
 "metadata": {
  "kernelspec": {
   "display_name": "Python 3 (ipykernel)",
   "language": "python",
   "name": "python3"
  },
  "language_info": {
   "codemirror_mode": {
    "name": "ipython",
    "version": 3
   },
   "file_extension": ".py",
   "mimetype": "text/x-python",
   "name": "python",
   "nbconvert_exporter": "python",
   "pygments_lexer": "ipython3",
   "version": "3.9.13"
  }
 },
 "nbformat": 4,
 "nbformat_minor": 5
}
