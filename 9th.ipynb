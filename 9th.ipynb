{
 "cells": [
  {
   "cell_type": "code",
   "execution_count": 133,
   "id": "f9011359-abdc-43cf-8f8e-11411061dd3f",
   "metadata": {},
   "outputs": [],
   "source": [
    "_input = \"\"\"10  13  16  21  30  45\"\"\"\n",
    "_input = open('9th.txt').read()"
   ]
  },
  {
   "cell_type": "code",
   "execution_count": 134,
   "id": "56370eb4-b0d8-4837-8f4d-18f45abec0c5",
   "metadata": {},
   "outputs": [],
   "source": [
    "histories = [[int(num) for num in line.split()] for line in _input.split('\\n')]"
   ]
  },
  {
   "cell_type": "code",
   "execution_count": 135,
   "id": "74e3e563-ded4-4965-a41c-90b4a2b64553",
   "metadata": {},
   "outputs": [],
   "source": [
    "# histories"
   ]
  },
  {
   "cell_type": "code",
   "execution_count": 136,
   "id": "e236a084-6e09-417d-8efb-a51c587bfb89",
   "metadata": {},
   "outputs": [
    {
     "data": {
      "text/plain": [
       "2005352194"
      ]
     },
     "execution_count": 136,
     "metadata": {},
     "output_type": "execute_result"
    }
   ],
   "source": [
    "histories = [[int(num) for num in line.split()] for line in _input.split('\\n')]\n",
    "row_list = []\n",
    "to_add = 0\n",
    "for history in histories:\n",
    "    all_zeros = False\n",
    "    iter = 0\n",
    "    to_add += history[-1]\n",
    "    while not all_zeros: \n",
    "        iter += 1\n",
    "        history = [history[n+1] - history[n] for n in range(len(history)-1)]\n",
    "        to_add += history[-1]\n",
    "        all_zeros = all([x == 0 for x in history])\n",
    "to_add"
   ]
  },
  {
   "cell_type": "code",
   "execution_count": 141,
   "id": "66544901-9a61-459e-b096-9ee54c7264e8",
   "metadata": {},
   "outputs": [],
   "source": [
    "histories = [[int(num) for num in line.split()] for line in _input.split('\\n')]\n",
    "to_add = 0\n",
    "rows = []\n",
    "for history in histories:\n",
    "    row_firsts = [history[0]]\n",
    "    all_zeros = False\n",
    "    while not all_zeros: \n",
    "        history = [history[n+1] - history[n] for n in range(len(history)-1)]\n",
    "        # print(history)\n",
    "        row_firsts.append(history[0])\n",
    "        if all([x == 0 for x in history]):\n",
    "            rows.append(row_firsts)\n",
    "            all_zeros = True\n",
    "# rows"
   ]
  },
  {
   "cell_type": "code",
   "execution_count": 138,
   "id": "ecf04108-88f3-4240-a07e-e22168d64773",
   "metadata": {},
   "outputs": [
    {
     "data": {
      "text/plain": [
       "1077"
      ]
     },
     "execution_count": 138,
     "metadata": {},
     "output_type": "execute_result"
    }
   ],
   "source": [
    "grand_sum = 0 \n",
    "for row in rows: \n",
    "    inter_sum = 0\n",
    "    for x in row[::-1]:\n",
    "        inter_sum = x - inter_sum\n",
    "    grand_sum += inter_sum\n",
    "grand_sum"
   ]
  },
  {
   "cell_type": "code",
   "execution_count": null,
   "id": "61861996-d63b-4a3a-a12a-289a171b76ed",
   "metadata": {},
   "outputs": [],
   "source": []
  },
  {
   "cell_type": "code",
   "execution_count": null,
   "id": "8f5ddf1f-549b-43bd-8a6e-305b931cbac7",
   "metadata": {},
   "outputs": [],
   "source": []
  }
 ],
 "metadata": {
  "kernelspec": {
   "display_name": "Python 3 (ipykernel)",
   "language": "python",
   "name": "python3"
  },
  "language_info": {
   "codemirror_mode": {
    "name": "ipython",
    "version": 3
   },
   "file_extension": ".py",
   "mimetype": "text/x-python",
   "name": "python",
   "nbconvert_exporter": "python",
   "pygments_lexer": "ipython3",
   "version": "3.9.13"
  }
 },
 "nbformat": 4,
 "nbformat_minor": 5
}
