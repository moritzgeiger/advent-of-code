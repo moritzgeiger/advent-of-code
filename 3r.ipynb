{
 "cells": [
  {
   "cell_type": "code",
   "execution_count": 4,
   "id": "ef63f64b-ecd9-4054-a252-83718a71395c",
   "metadata": {},
   "outputs": [],
   "source": [
    "import re"
   ]
  },
  {
   "cell_type": "code",
   "execution_count": 339,
   "id": "49a98622-4672-403b-be7c-be7561edb4fe",
   "metadata": {},
   "outputs": [],
   "source": [
    "_input = \"\"\"467..114..\n",
    "...*......\n",
    "..35..633.\n",
    "......#...\n",
    "617*......\n",
    ".....+.58.\n",
    "..592.....\n",
    "......755.\n",
    "...$.*....\n",
    ".664.598..\"\"\"\n",
    "_input = open('3rd.txt').read()"
   ]
  },
  {
   "cell_type": "code",
   "execution_count": 340,
   "id": "201782a1-58c1-49fc-a791-dd8be6c8549e",
   "metadata": {},
   "outputs": [],
   "source": [
    "rows = _input.split('\\n')"
   ]
  },
  {
   "cell_type": "code",
   "execution_count": 341,
   "id": "6cb7dd9f-ea2d-4f96-9055-a7e43c4e4b5a",
   "metadata": {},
   "outputs": [
    {
     "data": {
      "text/plain": [
       "140"
      ]
     },
     "execution_count": 341,
     "metadata": {},
     "output_type": "execute_result"
    }
   ],
   "source": [
    "len(rows)"
   ]
  },
  {
   "cell_type": "code",
   "execution_count": 358,
   "id": "09bd2825-1920-4af8-acbd-a4f4ad43a27b",
   "metadata": {},
   "outputs": [],
   "source": [
    "def find_digits(x):\n",
    "    return [\n",
    "        ((x.span()[0], x.span()[1]), x.group())\n",
    "        for x in re.finditer(r'\\d+', x)\n",
    "        ]\n",
    "\n",
    "def find_chars(x):\n",
    "    return [x.span()[0] for x in re.finditer(r'[^A-Za-z0-9\\.]', x)]\n",
    "\n",
    "def intersect(t, t2, increase):\n",
    "    if increase:\n",
    "        return any([\n",
    "        t2[0] <= t <= t2[1]+1,\n",
    "        t2[0]-1 <= t <= t2[1],\n",
    "    ])\n",
    "    \n",
    "    return any([\n",
    "        t2[0] <= t <= t2[1],\n",
    "        t2[0] <= t <= t2[1],\n",
    "    ])\n",
    "        "
   ]
  },
  {
   "cell_type": "code",
   "execution_count": 359,
   "id": "ab41d209-fd86-46ad-b229-086aeb55f9f7",
   "metadata": {},
   "outputs": [
    {
     "data": {
      "text/plain": [
       "True"
      ]
     },
     "execution_count": 359,
     "metadata": {},
     "output_type": "execute_result"
    }
   ],
   "source": [
    "intersect(\n",
    "    4,\n",
    "    (1,3),\n",
    "    True\n",
    ")"
   ]
  },
  {
   "cell_type": "code",
   "execution_count": 360,
   "id": "39c63d69-5a32-4a5e-908d-7a194fc353cd",
   "metadata": {},
   "outputs": [],
   "source": [
    "# rows"
   ]
  },
  {
   "cell_type": "code",
   "execution_count": 361,
   "id": "55e26de1-91d4-4c12-b500-62921a9072c2",
   "metadata": {},
   "outputs": [],
   "source": [
    "helper_digits = {\n",
    "    i: find_digits(row) for i, row in enumerate(rows)\n",
    "}\n",
    "\n",
    "helper_specials = {\n",
    "    i: find_chars(row) for i, row in enumerate(rows)\n",
    "}"
   ]
  },
  {
   "cell_type": "code",
   "execution_count": 362,
   "id": "520d3d81-44b5-4eb0-99ca-c912394a05ca",
   "metadata": {},
   "outputs": [],
   "source": [
    "# helper_digits"
   ]
  },
  {
   "cell_type": "code",
   "execution_count": 363,
   "id": "48586484-48d1-4e0a-8cad-0d3c2ee04424",
   "metadata": {},
   "outputs": [],
   "source": [
    "# helper_specials"
   ]
  },
  {
   "cell_type": "code",
   "execution_count": 364,
   "id": "f115274e-91f5-418d-9a68-2b0fd98306ba",
   "metadata": {},
   "outputs": [],
   "source": [
    "# for i, row in helper_specials.items():\n",
    "results = {}\n",
    "for i, row in helper_specials.items():\n",
    "    # print(i, row)\n",
    "    # print(helper_digits[i])\n",
    "    for loc in row:\n",
    "        # print(loc)\n",
    "        try:\n",
    "            results = {**results, **{f'{i}_{val[0]}': val[1] for val in helper_digits[i-1] if intersect(loc, val[0], True)}}\n",
    "        except:\n",
    "            continue\n",
    "        results = {**results, **{f'{i}_{val[0]}': val[1] for val in helper_digits[i] if intersect(loc, val[0], False)}}\n",
    "        try:\n",
    "            results = {**results, **{f'{i}_{val[0]}': val[1] for val in helper_digits[i+1] if intersect(loc, val[0], True)}}\n",
    "        except:\n",
    "            continue\n",
    "        \n",
    "        # print(results)\n"
   ]
  },
  {
   "cell_type": "code",
   "execution_count": 365,
   "id": "8aeeaaf0-f680-447d-b664-eea74670b127",
   "metadata": {},
   "outputs": [
    {
     "data": {
      "text/plain": [
       "507323"
      ]
     },
     "execution_count": 365,
     "metadata": {},
     "output_type": "execute_result"
    }
   ],
   "source": [
    "sum([int(x) for x in results.values()])"
   ]
  },
  {
   "cell_type": "code",
   "execution_count": null,
   "id": "1c8998d0-e0ab-4831-846a-f92487694a79",
   "metadata": {},
   "outputs": [],
   "source": []
  },
  {
   "cell_type": "code",
   "execution_count": null,
   "id": "ce265fdc-bdec-4155-ad3c-c49d138861e8",
   "metadata": {},
   "outputs": [],
   "source": []
  },
  {
   "cell_type": "code",
   "execution_count": null,
   "id": "b2c11094-2b2a-4efd-84e1-ac92b6f0ac8b",
   "metadata": {},
   "outputs": [],
   "source": []
  },
  {
   "cell_type": "code",
   "execution_count": null,
   "id": "5f83c265-0325-4783-be44-c849d6534e05",
   "metadata": {},
   "outputs": [],
   "source": []
  },
  {
   "cell_type": "code",
   "execution_count": null,
   "id": "43603fa3-59cd-4f73-b619-d26e9dfc1987",
   "metadata": {},
   "outputs": [],
   "source": []
  }
 ],
 "metadata": {
  "kernelspec": {
   "display_name": "Python 3 (ipykernel)",
   "language": "python",
   "name": "python3"
  },
  "language_info": {
   "codemirror_mode": {
    "name": "ipython",
    "version": 3
   },
   "file_extension": ".py",
   "mimetype": "text/x-python",
   "name": "python",
   "nbconvert_exporter": "python",
   "pygments_lexer": "ipython3",
   "version": "3.9.13"
  }
 },
 "nbformat": 4,
 "nbformat_minor": 5
}
